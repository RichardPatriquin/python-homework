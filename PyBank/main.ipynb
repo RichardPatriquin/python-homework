{
 "cells": [
  {
   "cell_type": "code",
   "execution_count": 7,
   "id": "9122cc22-41ae-46f4-ad2d-d17c381790d0",
   "metadata": {},
   "outputs": [
    {
     "name": "stdout",
     "output_type": "stream",
     "text": [
      "Finacial Analysis\n",
      "-------------------------------------\n",
      "Total Months: 86\n",
      "Total: $38382578\n",
      "Average Change: $-543305.66\n",
      "Greatest Increase in Profits: Feb-12 ($185938)\n",
      "Greatest Decrease in Profits: Sep-13 ($-2180880)\n"
     ]
    }
   ],
   "source": [
    "# -*- coding: utf-8 -*-\n",
    "\n",
    "# Import the pathlib and csv library\n",
    "from pathlib import Path\n",
    "import csv\n",
    "\n",
    "# Set the file path\n",
    "csvpath = r\"C:\\Users\\Richard\\Desktop\\python-homework\\PyBank\\budget_data.csv\"\n",
    "\n",
    "# Create empty lists to iterate through specific rows for the following variables\n",
    "total_months = []\n",
    "total_profit = []\n",
    "average_monthly_profit = []\n",
    "\n",
    "# Open the csv file as an object\n",
    "with open(csvpath, \"r\") as csvfile:\n",
    "    csvreader = csv.reader(csvfile, delimiter=\",\")\n",
    "    \n",
    "    header = next(csvreader)\n",
    "    \n",
    "    #Iterate through the rows in the stored file contents\n",
    "    for row in csvreader:\n",
    "        \n",
    "        total_months.append(row[0])\n",
    "        total_profit.append(int(row[1]))\n",
    "        \n",
    "    for profit in range(len(total_profit)-1):\n",
    "        \n",
    "        average_monthly_profit.append(total_profit[profit+1]-total_profit[1])\n",
    "    \n",
    "greatest_increase = max(average_monthly_profit)\n",
    "greatest_decrease = min(average_monthly_profit)     \n",
    "\n",
    "max_increase_month = average_monthly_profit.index(max(average_monthly_profit)) + 1\n",
    "max_decrease_month = average_monthly_profit.index(min(average_monthly_profit)) + 1 \n",
    "    \n",
    "\n",
    "print(\"Finacial Analysis\")\n",
    "print(\"-------------------------------------\")\n",
    "print(f\"Total Months: {len(total_months)}\")\n",
    "print(f\"Total: ${sum(total_profit)}\")\n",
    "print(f\"Average Change: ${round(sum(average_monthly_profit)/len(average_monthly_profit),2)}\")\n",
    "print(f\"Greatest Increase in Profits: {total_months[max_increase_month]} (${(str(greatest_increase))})\")\n",
    "print(f\"Greatest Decrease in Profits: {total_months[max_decrease_month]} (${(str(greatest_decrease))})\")\n",
    "\n",
    "#Output\n",
    "\n",
    "output_file = r\"C:\\Users\\Richard\\Desktop\\python-homework\\PyBank\\budget_data_new.csv\"\n",
    "\n",
    "with open(output_file, \"w\") as file:\n",
    "    \n",
    "    file.write(\"Finacial Analysis\")\n",
    "    file.write(\"/n\")\n",
    "    file.write(\"-----------------------------------\")\n",
    "    file.write(\"/n\")\n",
    "    file.write(f\"Total Months: {len(total_months)}\")\n",
    "    file.write(\"/n\")\n",
    "    file.write(f\"Total: ${sum(total_profit)}\")\n",
    "    file.write(\"/n\")\n",
    "    file.write(f\"Average Change: ${round(sum(average_monthly_profit)/len(average_monthly_profit),2)}\")\n",
    "    file.write(\"/n\")\n",
    "    file.write(f\"Greatest Increase in Profits: {total_months[max_increase_month]} (${(str(greatest_increase))})\")\n",
    "    file.write(\"/n\")\n",
    "    file.write(f\"Greatest Decrease in Profits: {total_months[max_decrease_month]} (${(str(greatest_decrease))})\")\n",
    "\n",
    "\n",
    "    "
   ]
  },
  {
   "cell_type": "code",
   "execution_count": null,
   "id": "d96ec093-66d5-4ed1-9094-7df83d69d401",
   "metadata": {},
   "outputs": [],
   "source": [
    "#ankush.garg0201@gmail.com\n",
    "#+919958714777\n"
   ]
  },
  {
   "cell_type": "code",
   "execution_count": null,
   "id": "5c721210-c547-4697-a316-bc0c55a1a62e",
   "metadata": {},
   "outputs": [],
   "source": []
  }
 ],
 "metadata": {
  "kernelspec": {
   "display_name": "Python 3",
   "language": "python",
   "name": "python3"
  },
  "language_info": {
   "codemirror_mode": {
    "name": "ipython",
    "version": 3
   },
   "file_extension": ".py",
   "mimetype": "text/x-python",
   "name": "python",
   "nbconvert_exporter": "python",
   "pygments_lexer": "ipython3",
   "version": "3.8.8"
  }
 },
 "nbformat": 4,
 "nbformat_minor": 5
}
